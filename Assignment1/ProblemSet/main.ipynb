{
 "cells": [
  {
   "cell_type": "code",
   "execution_count": 38,
   "metadata": {},
   "outputs": [],
   "source": [
    "import numpy as np\n",
    "import matplotlib.pyplot as plt\n",
    "from sklearn.model_selection import train_test_split"
   ]
  },
  {
   "cell_type": "markdown",
   "metadata": {},
   "source": [
    "# Class Definition"
   ]
  },
  {
   "cell_type": "code",
   "execution_count": 39,
   "metadata": {},
   "outputs": [],
   "source": [
    "class LinearRegressor:\n",
    "    def __init__(self, X, y):\n",
    "        ones_column = np.ones((X.shape[0], 1))  # Create a column of ones\n",
    "        self.X = np.hstack([ones_column, X])\n",
    "        self.y = y\n",
    "        self.theta = np.random.randn(2, 1) # Random initialization of weights\n",
    "\n",
    "    def train(self, learning_rate=0.1, n_iterations=1000, reg_lambda=0.01):\n",
    "        for _ in range(n_iterations):\n",
    "            # TODO: Compute the gradient of the cost function\n",
    "            raise NotImplementedError()\n",
    "    \n",
    "    def plot(self):\n",
    "        #TODO: Plot the data and the linear regression line\n",
    "        raise NotImplementedError()\n",
    "\n",
    "    def mse(self):\n",
    "        predictions = self.X.dot(self.theta)\n",
    "        return np.mean((predictions - self.y) ** 2)\n",
    "    \n",
    "    def r_squared(self):\n",
    "        #TODO: Implement r^2\n",
    "        raise NotImplementedError"
   ]
  },
  {
   "cell_type": "markdown",
   "metadata": {},
   "source": [
    "# Generate Data"
   ]
  },
  {
   "cell_type": "code",
   "execution_count": 40,
   "metadata": {},
   "outputs": [],
   "source": [
    "X_1 = np.random.rand(200, 1)  # 100 samples, single feature\n",
    "y_1 = 4 + 3 * X_1 + np.random.randn(200, 1)  # y = 3x + 4 + noise\n",
    "#TODO: Split the data into train and test\n",
    "\n",
    "X_2 = #TODO: Create a new dataset with 100 samples and a single feature\n",
    "y_2 = #TODO: Create the corresponding labels\n",
    "\n",
    "X_concated = np.concatenate((X_1, X_2), axis=0)\n",
    "y_concated = np.concatenate((y_1, y_2), axis=0)"
   ]
  },
  {
   "cell_type": "markdown",
   "metadata": {},
   "source": [
    "# Process Data"
   ]
  },
  {
   "cell_type": "code",
   "execution_count": 41,
   "metadata": {},
   "outputs": [],
   "source": [
    "#TODO: Train one regressor on concatenated data and plot the line and data together followed by printing weights and mse and r^2"
   ]
  },
  {
   "cell_type": "code",
   "execution_count": 42,
   "metadata": {},
   "outputs": [],
   "source": [
    "#TODO: Train one regressor on first split of data and plot the line and data together followed by printing weights and mse and r^2"
   ]
  },
  {
   "cell_type": "code",
   "execution_count": null,
   "metadata": {},
   "outputs": [],
   "source": [
    "#TODO: #TODO: Train one regressor on second split of data and plot the line and data together followed by printing weights and mse and r^2"
   ]
  },
  {
   "cell_type": "markdown",
   "metadata": {},
   "source": [
    "# Comparison"
   ]
  },
  {
   "cell_type": "code",
   "execution_count": 43,
   "metadata": {},
   "outputs": [],
   "source": [
    "#TODO: Plot the mse and r^2 of 3 regressors on the same plot and add legend"
   ]
  },
  {
   "cell_type": "code",
   "execution_count": null,
   "metadata": {},
   "outputs": [],
   "source": [
    "#TODO: Plot the mse and r^2 of concatenated regressor and sum of 2 split regressors on the same plot and add legend"
   ]
  },
  {
   "cell_type": "code",
   "execution_count": null,
   "metadata": {},
   "outputs": [],
   "source": [
    "#TODO: Comparison of different weight decays and learning rates"
   ]
  }
 ],
 "metadata": {
  "kernelspec": {
   "display_name": "data",
   "language": "python",
   "name": "python3"
  },
  "language_info": {
   "codemirror_mode": {
    "name": "ipython",
    "version": 3
   },
   "file_extension": ".py",
   "mimetype": "text/x-python",
   "name": "python",
   "nbconvert_exporter": "python",
   "pygments_lexer": "ipython3",
   "version": "3.11.9"
  }
 },
 "nbformat": 4,
 "nbformat_minor": 2
}
